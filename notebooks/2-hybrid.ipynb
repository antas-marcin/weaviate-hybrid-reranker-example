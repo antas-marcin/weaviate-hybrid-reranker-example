{
 "cells": [
  {
   "cell_type": "code",
   "execution_count": null,
   "metadata": {},
   "outputs": [],
   "source": [
    "import weaviate\n",
    "client = weaviate.connect_to_local()\n",
    "collection = client.collections.get(\"AI_Papers\")"
   ]
  },
  {
   "cell_type": "code",
   "execution_count": null,
   "metadata": {},
   "outputs": [],
   "source": [
    "result = collection.query.near_text(\n",
    "    query=\"what can you tell me about hypothetical elementary particles?\",\n",
    "    target_vector=\"m3_abstract\",\n",
    "    limit=10\n",
    ")\n",
    "for obj in result.objects:\n",
    "    print(f\"- {obj.properties[\"title\"]}\")"
   ]
  },
  {
   "cell_type": "code",
   "execution_count": null,
   "metadata": {},
   "outputs": [],
   "source": [
    "result = collection.query.bm25(\n",
    "    query=\"what can you tell me about hypothetical elementary particles?\",\n",
    "    query_properties=[\"abstract\"],\n",
    "    limit=10\n",
    ")\n",
    "for obj in result.objects:\n",
    "    print(f\"- {obj.properties[\"title\"]}\")"
   ]
  },
  {
   "cell_type": "code",
   "execution_count": null,
   "metadata": {},
   "outputs": [],
   "source": [
    "result = collection.query.hybrid(\n",
    "    query=\"what can you tell me about hypothetical elementary particles?\",\n",
    "    query_properties=[\"abstract\"],\n",
    "    target_vector=\"m3_abstract\",\n",
    "    limit=10\n",
    ")\n",
    "for obj in result.objects:\n",
    "    print(f\"- {obj.properties[\"title\"]}\")"
   ]
  },
  {
   "cell_type": "code",
   "execution_count": null,
   "metadata": {},
   "outputs": [],
   "source": [
    "from weaviate.classes.query import HybridFusion\n",
    "\n",
    "result = collection.query.hybrid(\n",
    "    query=\"what can you tell me about hypothetical elementary particles?\",\n",
    "    query_properties=[\"abstract\"],\n",
    "    target_vector=\"m3_abstract\",\n",
    "    fusion_type=HybridFusion.RANKED,\n",
    "    limit=10\n",
    ")\n",
    "for obj in result.objects:\n",
    "    print(f\"- {obj.properties[\"title\"]}\")"
   ]
  },
  {
   "cell_type": "code",
   "execution_count": null,
   "metadata": {},
   "outputs": [],
   "source": [
    "from weaviate.classes.query import HybridFusion\n",
    "\n",
    "result = collection.query.hybrid(\n",
    "    query=\"what can you tell me about hypothetical elementary particles?\",\n",
    "    query_properties=[\"abstract\"],\n",
    "    target_vector=\"m3_abstract\",\n",
    "    fusion_type=HybridFusion.RELATIVE_SCORE,\n",
    "    auto_limit=1,\n",
    "    limit=10\n",
    ")\n",
    "for obj in result.objects:\n",
    "    print(f\"- {obj.properties[\"title\"]}\")"
   ]
  },
  {
   "cell_type": "code",
   "execution_count": null,
   "metadata": {},
   "outputs": [],
   "source": [
    "client.close()"
   ]
  }
 ],
 "metadata": {
  "kernelspec": {
   "display_name": ".venv",
   "language": "python",
   "name": "python3"
  },
  "language_info": {
   "codemirror_mode": {
    "name": "ipython",
    "version": 3
   },
   "file_extension": ".py",
   "mimetype": "text/x-python",
   "name": "python",
   "nbconvert_exporter": "python",
   "pygments_lexer": "ipython3",
   "version": "3.13.7"
  }
 },
 "nbformat": 4,
 "nbformat_minor": 2
}
