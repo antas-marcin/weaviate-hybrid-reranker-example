{
 "cells": [
  {
   "cell_type": "code",
   "execution_count": 1,
   "metadata": {},
   "outputs": [],
   "source": [
    "import weaviate"
   ]
  },
  {
   "cell_type": "code",
   "execution_count": 2,
   "metadata": {},
   "outputs": [],
   "source": [
    "client = weaviate.connect_to_local()"
   ]
  },
  {
   "cell_type": "code",
   "execution_count": 3,
   "metadata": {},
   "outputs": [],
   "source": [
    "collection = client.collections.get(\"AI_Papers\")"
   ]
  },
  {
   "cell_type": "code",
   "execution_count": 33,
   "metadata": {},
   "outputs": [
    {
     "name": "stdout",
     "output_type": "stream",
     "text": [
      "Tropical mirror for toric surfaces\n",
      "Approximate ultrahomogeneity in $L_pL_q$ lattices\n",
      "Fraction Constraint in Partial Wave Analysis\n",
      "A Minkowski type inequality for manifolds with positive spectrum\n",
      "Improved constraints for axion-like particles from 3-photon events at\n",
      "  $e^+e^-$ colliders\n",
      "Quasi-integrability and nonlinear resonances in cold atoms under\n",
      "  modulation\n",
      "Magnetism on the thermal dynamics of 2D antiferromagnetic membranes\n",
      "Orbital magnetization of a metal is not a bulk property in the\n",
      "  mesoscopic regime\n",
      "On The Theory of Ring Afterglows\n",
      "Effects of electrons on nuclear clock transition frequency in $^{229}$Th\n",
      "  ions\n"
     ]
    }
   ],
   "source": [
    "result = collection.query.near_text(\n",
    "    query=\"what can you tell me about hypothetical elementary particles?\",\n",
    "    target_vector=\"m3_abstract\",\n",
    "    limit=10\n",
    ")\n",
    "for obj in result.objects:\n",
    "    print(f\"{obj.properties[\"title\"]}\")"
   ]
  },
  {
   "cell_type": "code",
   "execution_count": 32,
   "metadata": {},
   "outputs": [
    {
     "name": "stdout",
     "output_type": "stream",
     "text": [
      "Discovering Love numbers through resonance excitation during extreme\n",
      "  mass ratio inspirals\n",
      "Benford's Law under Zeckendorf expansion\n",
      "Cooperative Spin Amplification\n",
      "Improved constraints for axion-like particles from 3-photon events at\n",
      "  $e^+e^-$ colliders\n",
      "A Semi-Supervised Approach for Power System Event Identification\n",
      "Bringing the Discussion of Minima Sharpness to the Audio Domain: a\n",
      "  Filter-Normalised Evaluation for Acoustic Scene Classification\n",
      "NewsPanda: Media Monitoring for Timely Conservation Action\n",
      "Blind Deconvolution of Sparse Graph Signals in the Presence of\n",
      "  Perturbations\n",
      "High Sensitivity Beamformed Observations of the Crab Pulsar's Radio\n",
      "  Emission\n",
      "Strongly Magnetized Tidal Disruption Event Disks via Stream Injection in\n",
      "  GRMHD\n"
     ]
    }
   ],
   "source": [
    "result = collection.query.bm25(\n",
    "    query=\"what can you tell me about hypothetical elementary particles?\",\n",
    "    query_properties=[\"abstract\"],\n",
    "    limit=10\n",
    ")\n",
    "for obj in result.objects:\n",
    "    print(f\"{obj.properties[\"title\"]}\")"
   ]
  },
  {
   "cell_type": "code",
   "execution_count": 34,
   "metadata": {},
   "outputs": [
    {
     "name": "stdout",
     "output_type": "stream",
     "text": [
      "Tropical mirror for toric surfaces\n",
      "Improved constraints for axion-like particles from 3-photon events at\n",
      "  $e^+e^-$ colliders\n",
      "Approximate ultrahomogeneity in $L_pL_q$ lattices\n",
      "Discovering Love numbers through resonance excitation during extreme\n",
      "  mass ratio inspirals\n",
      "Fraction Constraint in Partial Wave Analysis\n",
      "A Minkowski type inequality for manifolds with positive spectrum\n",
      "Quasi-integrability and nonlinear resonances in cold atoms under\n",
      "  modulation\n",
      "Orbital magnetization of a metal is not a bulk property in the\n",
      "  mesoscopic regime\n",
      "Magnetism on the thermal dynamics of 2D antiferromagnetic membranes\n",
      "On The Theory of Ring Afterglows\n"
     ]
    }
   ],
   "source": [
    "result = collection.query.hybrid(\n",
    "    query=\"what can you tell me about hypothetical elementary particles?\",\n",
    "    query_properties=[\"abstract\"],\n",
    "    target_vector=\"m3_abstract\",\n",
    "    limit=10\n",
    ")\n",
    "for obj in result.objects:\n",
    "    print(f\"{obj.properties[\"title\"]}\")"
   ]
  },
  {
   "cell_type": "code",
   "execution_count": 35,
   "metadata": {},
   "outputs": [
    {
     "name": "stdout",
     "output_type": "stream",
     "text": [
      "Improved constraints for axion-like particles from 3-photon events at\n",
      "  $e^+e^-$ colliders\n",
      "Tropical mirror for toric surfaces\n",
      "Orbital magnetization of a metal is not a bulk property in the\n",
      "  mesoscopic regime\n",
      "Evidential uncertainty sampling for active learning\n",
      "Armouring of a frictional interface by mechanical noise\n"
     ]
    }
   ],
   "source": [
    "from weaviate.classes.query import HybridFusion\n",
    "\n",
    "result = collection.query.hybrid(\n",
    "    query=\"what can you tell me about hypothetical elementary particles?\",\n",
    "    query_properties=[\"abstract\"],\n",
    "    target_vector=\"m3_abstract\",\n",
    "    fusion_type=HybridFusion.RANKED,\n",
    "    auto_limit=1,\n",
    "    limit=10\n",
    ")\n",
    "for obj in result.objects:\n",
    "    print(f\"{obj.properties[\"title\"]}\")"
   ]
  }
 ],
 "metadata": {
  "kernelspec": {
   "display_name": ".venv",
   "language": "python",
   "name": "python3"
  },
  "language_info": {
   "codemirror_mode": {
    "name": "ipython",
    "version": 3
   },
   "file_extension": ".py",
   "mimetype": "text/x-python",
   "name": "python",
   "nbconvert_exporter": "python",
   "pygments_lexer": "ipython3",
   "version": "3.12.7"
  }
 },
 "nbformat": 4,
 "nbformat_minor": 2
}
