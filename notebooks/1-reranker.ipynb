{
 "cells": [
  {
   "cell_type": "code",
   "execution_count": 2,
   "metadata": {},
   "outputs": [],
   "source": [
    "import weaviate"
   ]
  },
  {
   "cell_type": "code",
   "execution_count": 3,
   "metadata": {},
   "outputs": [],
   "source": [
    "client = weaviate.connect_to_local()"
   ]
  },
  {
   "cell_type": "code",
   "execution_count": 4,
   "metadata": {},
   "outputs": [],
   "source": [
    "collection = client.collections.get(\"AI_Papers\")"
   ]
  },
  {
   "cell_type": "markdown",
   "metadata": {},
   "source": [
    "Let's search for articles about hypothetical elementary particles, ALPs (Axions and axion-like particles) are an example of hypothetical elementary particles"
   ]
  },
  {
   "cell_type": "code",
   "execution_count": 5,
   "metadata": {},
   "outputs": [],
   "source": [
    "result = collection.query.near_text(\n",
    "    query=\"what can you tell me about hypothetical elementary particles?\",\n",
    "    target_vector=\"m3_abstract\",\n",
    "    limit=10\n",
    ")"
   ]
  },
  {
   "cell_type": "markdown",
   "metadata": {},
   "source": [
    "First result is not what we are looking for, let's use reranker"
   ]
  },
  {
   "cell_type": "code",
   "execution_count": 6,
   "metadata": {},
   "outputs": [
    {
     "data": {
      "text/plain": [
       "'We describe the tropical mirror for complex toric surfaces. In particular we\\nprovide an explicit expression for the mirror states and show that they can be\\nwritten in enumerative form. Their holomorphic germs give an explicit form of\\ngood section for Landau-Ginzburg-Saito theory. We use an explicit form of\\nholomorphic germs to derive the divisor relation for tropical Gromov-Witten\\ninvariants. We interpret the deformation of the theory by a point observable as\\na blow up of a point on the toric surface. We describe the implication of such\\ninterpretation for the tropical Gromov-Witten invariants.'"
      ]
     },
     "execution_count": 6,
     "metadata": {},
     "output_type": "execute_result"
    }
   ],
   "source": [
    "result.objects[0].properties[\"abstract\"]"
   ]
  },
  {
   "cell_type": "code",
   "execution_count": 7,
   "metadata": {},
   "outputs": [],
   "source": [
    "from weaviate.classes.query import Rerank\n",
    "\n",
    "result = collection.query.near_text(\n",
    "    query=\"what can you tell me about hypothetical elementary particles?\",\n",
    "    target_vector=\"m3_abstract\",\n",
    "    limit=10,\n",
    "    rerank=Rerank(\n",
    "        query=\"what can you tell me about hypothetical elementary particles?\",\n",
    "        prop=\"abstract\"\n",
    "    )\n",
    ")"
   ]
  },
  {
   "cell_type": "markdown",
   "metadata": {},
   "source": [
    "Using vector search + rerank gives us the correct abstract about ALPs"
   ]
  },
  {
   "cell_type": "code",
   "execution_count": 8,
   "metadata": {},
   "outputs": [
    {
     "data": {
      "text/plain": [
       "'Axions and axion-like particles (ALPs) are one of the most widely discussed\\nextensions of the Standard Model when it comes to the strong CP problem and\\ndark matter candidates. Current experiments are focused on the indirect\\nsearches of invisible pseudoscalars in a wide parameter range. In this paper we\\ninvestigate limits on ALP mass, and its couplings to photons and leptons from\\n3-photon annihilation at $e^+e^-$ colliders. We provide detailed calculations\\nand apply them to the particular kinematics of the Belle II experiment,\\ncovering the ALP mass range from few hundred MeV to around 10 GeV. Our results,\\nwhich improve upon previous analyses by also including the ALP coupling to\\nelectrons, show that such future analyses will allow to significantly extend\\nthe ALP search range and impose much more stringent restrictions on their\\ncouplings.'"
      ]
     },
     "execution_count": 8,
     "metadata": {},
     "output_type": "execute_result"
    }
   ],
   "source": [
    "result.objects[0].properties[\"abstract\"]"
   ]
  },
  {
   "cell_type": "code",
   "execution_count": 9,
   "metadata": {},
   "outputs": [],
   "source": [
    "client.close()"
   ]
  }
 ],
 "metadata": {
  "kernelspec": {
   "display_name": ".venv",
   "language": "python",
   "name": "python3"
  },
  "language_info": {
   "codemirror_mode": {
    "name": "ipython",
    "version": 3
   },
   "file_extension": ".py",
   "mimetype": "text/x-python",
   "name": "python",
   "nbconvert_exporter": "python",
   "pygments_lexer": "ipython3",
   "version": "3.12.7"
  }
 },
 "nbformat": 4,
 "nbformat_minor": 2
}
