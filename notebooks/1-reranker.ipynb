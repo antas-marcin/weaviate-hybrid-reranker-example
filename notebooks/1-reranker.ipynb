{
 "cells": [
  {
   "cell_type": "code",
   "execution_count": 2,
   "metadata": {},
   "outputs": [],
   "source": [
    "import weaviate\n",
    "client = weaviate.connect_to_local()\n",
    "collection = client.collections.get(\"AI_Papers\")"
   ]
  },
  {
   "cell_type": "markdown",
   "metadata": {},
   "source": [
    "Let's search for articles about hypothetical elementary particles, ALPs (Axions and axion-like particles) are an example of hypothetical elementary particles"
   ]
  },
  {
   "cell_type": "code",
   "execution_count": 5,
   "metadata": {},
   "outputs": [],
   "source": [
    "result = collection.query.near_text(\n",
    "    query=\"what can you tell me about hypothetical elementary particles?\",\n",
    "    target_vector=\"m3_abstract\",\n",
    "    limit=10\n",
    ")"
   ]
  },
  {
   "cell_type": "markdown",
   "metadata": {},
   "source": [
    "First result is not what we are looking for, let's use reranker"
   ]
  },
  {
   "cell_type": "code",
   "execution_count": null,
   "metadata": {},
   "outputs": [],
   "source": [
    "result.objects[0].properties[\"abstract\"]"
   ]
  },
  {
   "cell_type": "code",
   "execution_count": 7,
   "metadata": {},
   "outputs": [],
   "source": [
    "from weaviate.classes.query import Rerank\n",
    "\n",
    "result = collection.query.near_text(\n",
    "    query=\"what can you tell me about hypothetical elementary particles?\",\n",
    "    target_vector=\"m3_abstract\",\n",
    "    limit=10,\n",
    "    rerank=Rerank(\n",
    "        query=\"what can you tell me about hypothetical elementary particles?\",\n",
    "        prop=\"abstract\"\n",
    "    )\n",
    ")"
   ]
  },
  {
   "cell_type": "markdown",
   "metadata": {},
   "source": [
    "Using vector search + rerank gives us the correct abstract about ALPs"
   ]
  },
  {
   "cell_type": "code",
   "execution_count": null,
   "metadata": {},
   "outputs": [],
   "source": [
    "result.objects[0].properties[\"abstract\"]"
   ]
  },
  {
   "cell_type": "code",
   "execution_count": 9,
   "metadata": {},
   "outputs": [],
   "source": [
    "client.close()"
   ]
  }
 ],
 "metadata": {
  "kernelspec": {
   "display_name": ".venv",
   "language": "python",
   "name": "python3"
  },
  "language_info": {
   "codemirror_mode": {
    "name": "ipython",
    "version": 3
   },
   "file_extension": ".py",
   "mimetype": "text/x-python",
   "name": "python",
   "nbconvert_exporter": "python",
   "pygments_lexer": "ipython3",
   "version": "3.12.7"
  }
 },
 "nbformat": 4,
 "nbformat_minor": 2
}
