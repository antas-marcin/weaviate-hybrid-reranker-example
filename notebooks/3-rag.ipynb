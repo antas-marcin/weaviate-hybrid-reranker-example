{
 "cells": [
  {
   "cell_type": "code",
   "execution_count": 1,
   "metadata": {},
   "outputs": [],
   "source": [
    "import weaviate\n",
    "from weaviate.classes.init import AdditionalConfig, Timeout\n",
    "client = weaviate.connect_to_local(additional_config=AdditionalConfig(\n",
    "        timeout=Timeout(init=30, query=600, insert=120)  # Values in seconds\n",
    "    ))\n",
    "collection = client.collections.get(\"AI_Papers\")"
   ]
  },
  {
   "cell_type": "code",
   "execution_count": null,
   "metadata": {},
   "outputs": [],
   "source": [
    "result = collection.generate.near_text(\n",
    "    query=\"Axions and axion-like particles\",\n",
    "    target_vector=\"m3_abstract\",\n",
    "    limit=1,\n",
    "    single_prompt=\"Please translate this text to Polish: {abstract}\"\n",
    ")\n",
    "for obj in result.objects:\n",
    "    print(f\"-original: {obj.properties[\"abstract\"]}\\n- {obj.generated}\\n\")"
   ]
  }
 ],
 "metadata": {
  "kernelspec": {
   "display_name": ".venv",
   "language": "python",
   "name": "python3"
  },
  "language_info": {
   "codemirror_mode": {
    "name": "ipython",
    "version": 3
   },
   "file_extension": ".py",
   "mimetype": "text/x-python",
   "name": "python",
   "nbconvert_exporter": "python",
   "pygments_lexer": "ipython3",
   "version": "3.12.7"
  }
 },
 "nbformat": 4,
 "nbformat_minor": 2
}
