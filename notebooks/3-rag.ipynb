{
 "cells": [
  {
   "cell_type": "code",
   "execution_count": null,
   "metadata": {},
   "outputs": [],
   "source": [
    "import weaviate\n",
    "from weaviate.classes.init import AdditionalConfig, Timeout\n",
    "from weaviate.classes.query import HybridFusion"
   ]
  },
  {
   "cell_type": "code",
   "execution_count": null,
   "metadata": {},
   "outputs": [],
   "source": [
    "client = weaviate.connect_to_local(additional_config=AdditionalConfig(\n",
    "    timeout=Timeout(init=30, query=600, insert=120)  # Values in seconds\n",
    "))"
   ]
  },
  {
   "cell_type": "code",
   "execution_count": null,
   "metadata": {},
   "outputs": [],
   "source": [
    "collection = client.collections.get(\"AI_Papers\")"
   ]
  },
  {
   "cell_type": "code",
   "execution_count": null,
   "metadata": {},
   "outputs": [],
   "source": [
    "result = collection.generate.hybrid(\n",
    "    query=\"what can you tell me about hypothetical elementary particles?\",\n",
    "    query_properties=[\"abstract\"],\n",
    "    target_vector=\"m3_abstract\",\n",
    "    fusion_type=HybridFusion.RELATIVE_SCORE,\n",
    "    auto_limit=1,\n",
    "    limit=1,\n",
    "    single_prompt=\"Please translate this text to Polish: {abstract}\"\n",
    ")\n",
    "for obj in result.objects:\n",
    "    print(f\"-original: {obj.properties[\"abstract\"]}\\n- {obj.generated}\\n\")"
   ]
  },
  {
   "cell_type": "code",
   "execution_count": null,
   "metadata": {},
   "outputs": [],
   "source": [
    "client.close()"
   ]
  }
 ],
 "metadata": {
  "kernelspec": {
   "display_name": ".venv",
   "language": "python",
   "name": "python3"
  },
  "language_info": {
   "codemirror_mode": {
    "name": "ipython",
    "version": 3
   },
   "file_extension": ".py",
   "mimetype": "text/x-python",
   "name": "python",
   "nbconvert_exporter": "python",
   "pygments_lexer": "ipython3",
   "version": "3.13.2"
  }
 },
 "nbformat": 4,
 "nbformat_minor": 2
}
