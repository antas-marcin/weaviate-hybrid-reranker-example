{
 "cells": [
  {
   "cell_type": "code",
   "execution_count": 1,
   "metadata": {},
   "outputs": [
    {
     "name": "stderr",
     "output_type": "stream",
     "text": [
      "/Users/marcin/workspace/semi-technologies/presentation/weaviate-hybrid-reranker-example/.venv/lib/python3.12/site-packages/tqdm/auto.py:21: TqdmWarning: IProgress not found. Please update jupyter and ipywidgets. See https://ipywidgets.readthedocs.io/en/stable/user_install.html\n",
      "  from .autonotebook import tqdm as notebook_tqdm\n"
     ]
    }
   ],
   "source": [
    "from datasets import load_dataset\n",
    "\n",
    "data = load_dataset(\"neuralwork/arxiver\", split=\"train[:100]\")"
   ]
  },
  {
   "cell_type": "code",
   "execution_count": 2,
   "metadata": {},
   "outputs": [],
   "source": [
    "weaviate_data = data.map(lambda x: {\n",
    "    \"paper_id\": x[\"id\"],\n",
    "    \"title\": x[\"title\"],\n",
    "    \"abstract\": x[\"abstract\"],\n",
    "    \"authors\": x[\"authors\"],\n",
    "    \"published_date\": x[\"published_date\"],\n",
    "    \"link\": x[\"link\"],\n",
    "    \"markdown\": x[\"markdown\"],\n",
    "}).remove_columns([\"id\"])"
   ]
  },
  {
   "cell_type": "code",
   "execution_count": 3,
   "metadata": {},
   "outputs": [],
   "source": [
    "import weaviate\n",
    "from weaviate.classes.config import Property, DataType, Configure\n",
    "from weaviate.util import generate_uuid5\n",
    "from weaviate.collections.classes.config import ConsistencyLevel\n",
    "from weaviate.classes.query import Rerank"
   ]
  },
  {
   "cell_type": "code",
   "execution_count": 4,
   "metadata": {},
   "outputs": [],
   "source": [
    "client = weaviate.connect_to_local()"
   ]
  },
  {
   "cell_type": "code",
   "execution_count": 5,
   "metadata": {},
   "outputs": [],
   "source": [
    "client.collections.delete_all()"
   ]
  },
  {
   "cell_type": "code",
   "execution_count": 6,
   "metadata": {},
   "outputs": [],
   "source": [
    "ai_papers = client.collections.create(\n",
    "        name=\"AI_Papers\",\n",
    "        properties=[\n",
    "            Property(name=\"paper_id\", data_type=DataType.TEXT),\n",
    "            Property(name=\"title\", data_type=DataType.TEXT),\n",
    "            Property(name=\"abstract\", data_type=DataType.TEXT),\n",
    "            Property(name=\"authors\", data_type=DataType.TEXT),\n",
    "            Property(name=\"published_date\", data_type=DataType.DATE),\n",
    "            Property(name=\"link\", data_type=DataType.TEXT),\n",
    "            Property(name=\"markdown\", data_type=DataType.TEXT),\n",
    "        ],\n",
    "        vectorizer_config=[\n",
    "            Configure.NamedVectors.text2vec_transformers(\n",
    "                name=\"mxbai_abstract\",\n",
    "                source_properties=[\"abstract\"],\n",
    "                inference_url=\"http://t2v-transformers-mixedbread-ai-mxbai-embed:8080\",\n",
    "                vectorize_collection_name=False,\n",
    "                vector_index_config=Configure.VectorIndex.hnsw(\n",
    "                    quantizer=Configure.VectorIndex.Quantizer.pq(),\n",
    "                ),\n",
    "            ),\n",
    "            Configure.NamedVectors.text2vec_transformers(\n",
    "                name=\"m3_abstract\",\n",
    "                source_properties=[\"abstract\"],\n",
    "                vectorize_collection_name=False,\n",
    "                vector_index_config=Configure.VectorIndex.flat(),\n",
    "            ),\n",
    "        ],\n",
    "        generative_config=Configure.Generative.ollama(\n",
    "            api_endpoint=\"http://generative-ollama:11434\",\n",
    "            model=\"aya-expanse:8b\",\n",
    "        ),\n",
    "        reranker_config=Configure.Reranker.transformers(),\n",
    "    )"
   ]
  },
  {
   "cell_type": "code",
   "execution_count": 7,
   "metadata": {},
   "outputs": [],
   "source": [
    "collection = client.collections.get(\"AI_Papers\")"
   ]
  },
  {
   "cell_type": "code",
   "execution_count": 8,
   "metadata": {},
   "outputs": [],
   "source": [
    "with collection.batch.dynamic() as batch:\n",
    "    for d in weaviate_data:\n",
    "        batch.add_object(properties=d, uuid=generate_uuid5(d[\"paper_id\"]))\n",
    "    batch.flush()"
   ]
  },
  {
   "cell_type": "code",
   "execution_count": 9,
   "metadata": {},
   "outputs": [],
   "source": [
    "client.close()"
   ]
  }
 ],
 "metadata": {
  "kernelspec": {
   "display_name": ".venv",
   "language": "python",
   "name": "python3"
  },
  "language_info": {
   "codemirror_mode": {
    "name": "ipython",
    "version": 3
   },
   "file_extension": ".py",
   "mimetype": "text/x-python",
   "name": "python",
   "nbconvert_exporter": "python",
   "pygments_lexer": "ipython3",
   "version": "3.12.7"
  }
 },
 "nbformat": 4,
 "nbformat_minor": 2
}
