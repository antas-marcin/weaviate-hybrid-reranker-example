{
 "cells": [
  {
   "cell_type": "code",
   "execution_count": 13,
   "metadata": {},
   "outputs": [],
   "source": [
    "from datasets import load_dataset\n",
    "\n",
    "data = load_dataset(\"neuralwork/arxiver\", split=\"train[:100]\")"
   ]
  },
  {
   "cell_type": "code",
   "execution_count": null,
   "metadata": {},
   "outputs": [],
   "source": [
    "weaviate_data = data.map(lambda x: {\n",
    "    \"paper_id\": x[\"id\"],\n",
    "    \"title\": x[\"title\"],\n",
    "    \"abstract\": x[\"abstract\"],\n",
    "    \"authors\": x[\"authors\"],\n",
    "    \"published_date\": x[\"published_date\"],\n",
    "    \"link\": x[\"link\"],\n",
    "    \"markdown\": x[\"markdown\"],\n",
    "}).remove_columns([\"id\"])"
   ]
  },
  {
   "cell_type": "code",
   "execution_count": null,
   "metadata": {},
   "outputs": [],
   "source": [
    "weaviate_data[0]"
   ]
  },
  {
   "cell_type": "code",
   "execution_count": 16,
   "metadata": {},
   "outputs": [],
   "source": [
    "import weaviate\n",
    "from weaviate.classes.config import Property, DataType, Configure\n",
    "from weaviate.util import generate_uuid5"
   ]
  },
  {
   "cell_type": "code",
   "execution_count": 17,
   "metadata": {},
   "outputs": [],
   "source": [
    "client = weaviate.connect_to_local()"
   ]
  },
  {
   "cell_type": "code",
   "execution_count": 18,
   "metadata": {},
   "outputs": [],
   "source": [
    "client.collections.delete_all()"
   ]
  },
  {
   "cell_type": "code",
   "execution_count": 19,
   "metadata": {},
   "outputs": [],
   "source": [
    "ai_papers = client.collections.create(\n",
    "        name=\"AI_Papers\",\n",
    "        properties=[\n",
    "            Property(name=\"paper_id\", data_type=DataType.TEXT),\n",
    "            Property(name=\"title\", data_type=DataType.TEXT),\n",
    "            Property(name=\"abstract\", data_type=DataType.TEXT),\n",
    "            Property(name=\"authors\", data_type=DataType.TEXT),\n",
    "            Property(name=\"published_date\", data_type=DataType.DATE),\n",
    "            Property(name=\"link\", data_type=DataType.TEXT),\n",
    "            Property(name=\"markdown\", data_type=DataType.TEXT),\n",
    "        ],\n",
    "        vectorizer_config=[\n",
    "            Configure.NamedVectors.text2vec_transformers(\n",
    "                name=\"m3_abstract\",\n",
    "                source_properties=[\"abstract\"],\n",
    "                vectorize_collection_name=False,\n",
    "                vector_index_config=Configure.VectorIndex.flat(),\n",
    "            ),\n",
    "        ],\n",
    "        generative_config=Configure.Generative.ollama(\n",
    "            api_endpoint=\"http://generative-ollama:11434\",\n",
    "            model=\"aya-expanse:8b\",\n",
    "        ),\n",
    "        reranker_config=Configure.Reranker.transformers(),\n",
    "    )"
   ]
  },
  {
   "cell_type": "code",
   "execution_count": 20,
   "metadata": {},
   "outputs": [],
   "source": [
    "collection = client.collections.get(\"AI_Papers\")"
   ]
  },
  {
   "cell_type": "code",
   "execution_count": 21,
   "metadata": {},
   "outputs": [],
   "source": [
    "with collection.batch.dynamic() as batch:\n",
    "    for d in weaviate_data:\n",
    "        batch.add_object(properties=d, uuid=generate_uuid5(d[\"paper_id\"]))\n",
    "    batch.flush()"
   ]
  },
  {
   "cell_type": "code",
   "execution_count": 22,
   "metadata": {},
   "outputs": [],
   "source": [
    "client.close()"
   ]
  }
 ],
 "metadata": {
  "kernelspec": {
   "display_name": ".venv",
   "language": "python",
   "name": "python3"
  },
  "language_info": {
   "codemirror_mode": {
    "name": "ipython",
    "version": 3
   },
   "file_extension": ".py",
   "mimetype": "text/x-python",
   "name": "python",
   "nbconvert_exporter": "python",
   "pygments_lexer": "ipython3",
   "version": "3.13.2"
  }
 },
 "nbformat": 4,
 "nbformat_minor": 2
}
